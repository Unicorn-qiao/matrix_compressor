{
 "cells": [
  {
   "cell_type": "code",
   "execution_count": 3,
   "metadata": {},
   "outputs": [],
   "source": [
    "# This is a script to generate low-precision low-rank approximations for matrices\n",
    "import sys\n",
    "sys.path.append('/home/ubuntu/disk1/Fyq-workspace/Projects/codes/matrix-compressor/src')\n",
    "\n",
    "import pathlib\n",
    "from datetime import datetime\n",
    "from itertools import product\n",
    "\n",
    "import matplotlib.pyplot as plt\n",
    "import numpy as np\n",
    "import torch\n",
    "from phantominator import shepp_logan\n",
    "\n",
    "from lplr.compressors import direct_svd_quant, lplr, lplr_svd\n",
    "from lplr.quantizers import quantize\n",
    "from lplr.utils import maximum_output_rank\n",
    "\n",
    "# plt.rcParams[\"figure.figsize\"] = [20, 18]\n",
    "plt.rcParams.update({\"font.size\": 10})\n",
    "\n",
    "SEED = int(datetime.now().timestamp())"
   ]
  },
  {
   "cell_type": "code",
   "execution_count": 4,
   "metadata": {},
   "outputs": [],
   "source": [
    "def save_image(mat, bp, name):\n",
    "    plt.clf()\n",
    "    plt.set_cmap(\"gray\")\n",
    "    im = plt.imshow(mat)\n",
    "    plt.axis(\"off\")\n",
    "    plt.tight_layout()\n",
    "    plt.savefig(bp / name, bbox_inches=\"tight\", pad_inches=0)\n",
    "\n",
    "\n",
    "def relative_error(X, Y):\n",
    "    return (\n",
    "        torch.linalg.norm(X - Y, ord=\"fro\") / torch.linalg.norm(Y, ord=\"fro\")\n",
    "    ).item()\n",
    "\n",
    "\n",
    "def paper_output():\n",
    "    # Load phantom image\n",
    "    P = shepp_logan(1000)\n",
    "    P = torch.from_numpy(np.interp(P, (P.min(), P.max()), (0, 1)))\n",
    "\n",
    "    base_output_path = pathlib.Path(f\"artifacts/paper\")\n",
    "    base_output_path.mkdir(parents=True, exist_ok=True)\n",
    "\n",
    "    print(f\"Shepp logan output rank = {np.linalg.matrix_rank(P)}\")\n",
    "    b1_range = [8]\n",
    "    b2_range = [4]\n",
    "    b_nq_range = [1, 2]\n",
    "\n",
    "    save_image(P, base_output_path, \"original.png\")\n",
    "    records = []\n",
    "    for b1, b2, b_nq in product(b1_range, b2_range, b_nq_range):\n",
    "        rr = maximum_output_rank(1, b1, b2, b_nq, P.shape)\n",
    "\n",
    "        output_dir = base_output_path / f\"rank-{rr}_b1-{b1}_b2-{b2}_b0-{b_nq}\"\n",
    "        output_dir.mkdir(parents=True, exist_ok=True)\n",
    "\n",
    "        log_file = output_dir / \"eval.log\"\n",
    "\n",
    "        print(f\"processing b1 = {b1} b_nq = {b_nq} rank = {rr}\")\n",
    "\n",
    "        with open(log_file, \"w\") as f:\n",
    "            P_direct = direct_svd_quant(X=P, r=rr, B1=b1, B2=b2, normalize_and_shift=True)\n",
    "            err_direct_svd = relative_error(P_direct, P)\n",
    "            print(f\"Error (Direct SVD): {err_direct_svd}\", file=f)\n",
    "            save_image(P_direct, output_dir, \"dsvd.png\")\n",
    "\n",
    "            P_lplr = lplr(X=P, r=rr, B1=b1, B2=b2, normalize_and_shift=True)\n",
    "            err_lplr = relative_error(P_lplr, P)\n",
    "            print(f\"Error (LPLR): {err_lplr}\", file=f)\n",
    "            save_image(P_lplr, output_dir, \"lplr.png\")\n",
    "\n",
    "            P_lsvd = lplr_svd(X=P, r=rr, B1=b1, B2=b2, normalize_and_shift=True)\n",
    "            err_lsvd = relative_error(P_lsvd, P)\n",
    "            print(f\"Error (LSVD): {err_lsvd}\", file=f)\n",
    "            save_image(P_lsvd, output_dir, \"lsvd.png\")\n",
    "\n",
    "            P_nq = quantize(P, b_nq)\n",
    "            err_nq = relative_error(P_nq, P)\n",
    "            print(f\"Error (NQ): {err_nq}\", file=f)\n",
    "            save_image(P_nq, output_dir, \"nq.png\")\n",
    "\n",
    "            records.append(\n",
    "                {\n",
    "                    \"B1\": b1,\n",
    "                    \"B2\": b2,\n",
    "                    \"Rank\": rr,\n",
    "                    \"Bnq\": b_nq,\n",
    "                    \"NQ\": err_nq,\n",
    "                    \"DSVD\": err_direct_svd,\n",
    "                    \"LPLR\": err_lplr,\n",
    "                    \"LSVD\": err_lsvd\n",
    "                }\n",
    "            )\n",
    "\n",
    "    import pandas as pd\n",
    "\n",
    "    df = pd.DataFrame.from_records(records)\n",
    "    print(df.sort_values([\"Bnq\", \"Rank\"]).to_string(index=False))"
   ]
  },
  {
   "cell_type": "code",
   "execution_count": 5,
   "metadata": {},
   "outputs": [
    {
     "name": "stdout",
     "output_type": "stream",
     "text": [
      "Shepp logan output rank = 539\n",
      "processing b1 = 8 b_nq = 1 rank = 83\n"
     ]
    },
    {
     "name": "stderr",
     "output_type": "stream",
     "text": [
      "\u001b[32m2024-05-18 22:29:06.449\u001b[0m | \u001b[33m\u001b[1mWARNING \u001b[0m | \u001b[36mlplr.quantizers\u001b[0m:\u001b[36mquantize\u001b[0m:\u001b[36m44\u001b[0m - \u001b[33m\u001b[1mUsing simulation to quantize to 8 bits\u001b[0m\n",
      "\u001b[32m2024-05-18 22:29:06.522\u001b[0m | \u001b[33m\u001b[1mWARNING \u001b[0m | \u001b[36mlplr.quantizers\u001b[0m:\u001b[36mquantize\u001b[0m:\u001b[36m44\u001b[0m - \u001b[33m\u001b[1mUsing simulation to quantize to 4 bits\u001b[0m\n",
      "\u001b[32m2024-05-18 22:29:06.625\u001b[0m | \u001b[33m\u001b[1mWARNING \u001b[0m | \u001b[36mlplr.quantizers\u001b[0m:\u001b[36mquantize\u001b[0m:\u001b[36m44\u001b[0m - \u001b[33m\u001b[1mUsing simulation to quantize to 8 bits\u001b[0m\n",
      "\u001b[32m2024-05-18 22:29:06.632\u001b[0m | \u001b[33m\u001b[1mWARNING \u001b[0m | \u001b[36mlplr.quantizers\u001b[0m:\u001b[36mquantize\u001b[0m:\u001b[36m44\u001b[0m - \u001b[33m\u001b[1mUsing simulation to quantize to 4 bits\u001b[0m\n"
     ]
    },
    {
     "name": "stdout",
     "output_type": "stream",
     "text": [
      "Elapsed time: 0.0723 seconds\n",
      "Elapsed time: 0.0036 seconds\n",
      "Elapsed time: 0.3387 seconds\n",
      "Elapsed time: 0.0039 seconds\n",
      "Elapsed time: 0.0035 seconds\n",
      "Elapsed time: 0.0136 seconds\n"
     ]
    },
    {
     "name": "stderr",
     "output_type": "stream",
     "text": [
      "\u001b[32m2024-05-18 22:29:06.730\u001b[0m | \u001b[33m\u001b[1mWARNING \u001b[0m | \u001b[36mlplr.quantizers\u001b[0m:\u001b[36mquantize\u001b[0m:\u001b[36m44\u001b[0m - \u001b[33m\u001b[1mUsing simulation to quantize to 1 bits\u001b[0m\n"
     ]
    },
    {
     "name": "stdout",
     "output_type": "stream",
     "text": [
      "Elapsed time: 0.0121 seconds\n",
      "processing b1 = 8 b_nq = 2 rank = 166\n"
     ]
    },
    {
     "name": "stderr",
     "output_type": "stream",
     "text": [
      "\u001b[32m2024-05-18 22:29:07.064\u001b[0m | \u001b[33m\u001b[1mWARNING \u001b[0m | \u001b[36mlplr.quantizers\u001b[0m:\u001b[36mquantize\u001b[0m:\u001b[36m44\u001b[0m - \u001b[33m\u001b[1mUsing simulation to quantize to 8 bits\u001b[0m\n",
      "\u001b[32m2024-05-18 22:29:07.141\u001b[0m | \u001b[33m\u001b[1mWARNING \u001b[0m | \u001b[36mlplr.quantizers\u001b[0m:\u001b[36mquantize\u001b[0m:\u001b[36m44\u001b[0m - \u001b[33m\u001b[1mUsing simulation to quantize to 4 bits\u001b[0m\n",
      "\u001b[32m2024-05-18 22:29:07.248\u001b[0m | \u001b[33m\u001b[1mWARNING \u001b[0m | \u001b[36mlplr.quantizers\u001b[0m:\u001b[36mquantize\u001b[0m:\u001b[36m44\u001b[0m - \u001b[33m\u001b[1mUsing simulation to quantize to 8 bits\u001b[0m\n",
      "\u001b[32m2024-05-18 22:29:07.261\u001b[0m | \u001b[33m\u001b[1mWARNING \u001b[0m | \u001b[36mlplr.quantizers\u001b[0m:\u001b[36mquantize\u001b[0m:\u001b[36m44\u001b[0m - \u001b[33m\u001b[1mUsing simulation to quantize to 4 bits\u001b[0m\n"
     ]
    },
    {
     "name": "stdout",
     "output_type": "stream",
     "text": [
      "Elapsed time: 0.0776 seconds\n",
      "Elapsed time: 0.0053 seconds\n",
      "Elapsed time: 0.3363 seconds\n",
      "Elapsed time: 0.0057 seconds\n",
      "Elapsed time: 0.0055 seconds\n",
      "Elapsed time: 0.0227 seconds\n"
     ]
    },
    {
     "name": "stderr",
     "output_type": "stream",
     "text": [
      "\u001b[32m2024-05-18 22:29:07.360\u001b[0m | \u001b[33m\u001b[1mWARNING \u001b[0m | \u001b[36mlplr.quantizers\u001b[0m:\u001b[36mquantize\u001b[0m:\u001b[36m44\u001b[0m - \u001b[33m\u001b[1mUsing simulation to quantize to 2 bits\u001b[0m\n",
      "/home/ubuntu/.local/lib/python3.10/site-packages/pandas/core/computation/expressions.py:21: UserWarning: Pandas requires version '2.8.4' or newer of 'numexpr' (version '2.7.3' currently installed).\n",
      "  from pandas.core.computation.check import NUMEXPR_INSTALLED\n"
     ]
    },
    {
     "name": "stdout",
     "output_type": "stream",
     "text": [
      "Elapsed time: 0.0184 seconds\n",
      " B1  B2  Rank  Bnq     LPLR     DSVD       NQ\n",
      "  8   4    83    1 0.343132 0.479759 0.532290\n",
      "  8   4   166    2 0.316197 0.595284 0.312196\n"
     ]
    },
    {
     "data": {
      "image/png": "[encoded data removed]",
      "text/plain": [
       "<Figure size 640x480 with 1 Axes>"
      ]
     },
     "metadata": {},
     "output_type": "display_data"
    }
   ],
   "source": [
    "paper_output()"
   ]
  }
 ],
 "metadata": {
  "kernelspec": {
   "display_name": "base",
   "language": "python",
   "name": "python3"
  },
  "language_info": {
   "codemirror_mode": {
    "name": "ipython",
    "version": 3
   },
   "file_extension": ".py",
   "mimetype": "text/x-python",
   "name": "python",
   "nbconvert_exporter": "python",
   "pygments_lexer": "ipython3",
   "version": "3.10.10"
  }
 },
 "nbformat": 4,
 "nbformat_minor": 2
}
